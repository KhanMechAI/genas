{
 "cells": [
  {
   "cell_type": "code",
   "execution_count": 1,
   "metadata": {},
   "outputs": [],
   "source": [
    "import numpy as np\n",
    "from queue import Queue\n",
    "from collections import defaultdict\n",
    "import networkx as nx\n",
    "from networkx import DiGraph"
   ]
  },
  {
   "cell_type": "code",
   "execution_count": 2,
   "metadata": {},
   "outputs": [],
   "source": [
    "def check_connected_to_input(node, graph, attribute_map):\n",
    "    connections = [x for x in graph.neighbors(node)]\n",
    "    for neighbor in connections:\n",
    "        if attribute_map[neighbor]['TYPE'] == 'INPUT':\n",
    "            return True\n",
    "    return False\n"
   ]
  },
  {
   "cell_type": "code",
   "execution_count": 3,
   "metadata": {},
   "outputs": [],
   "source": [
    "# Algorithm 2\n",
    "def disallowed_nodes(node, level, depth, nonleaf, attribute_map, graph) -> set:\n",
    "    restricted_types = set()\n",
    "    connected_to_input = check_connected_to_input(node, graph, attribute_map)\n",
    "    \n",
    "    if connected_to_input or not nonleaf:\n",
    "        restricted_types.add('INPUT')\n",
    "    \n",
    "    if (level + 2 == depth) or attribute_map[node]['TYPE'] in {'SUM', 'CONCAT'}:\n",
    "        restricted_types.add('BINARY')\n",
    "        \n",
    "    return restricted_types\n",
    "    "
   ]
  },
  {
   "cell_type": "code",
   "execution_count": 12,
   "metadata": {},
   "outputs": [],
   "source": [
    "def get_new_node():\n",
    "    return defaultdict(\n",
    "        TYPE=None,\n",
    "        ARITY=None\n",
    "    )"
   ]
  },
  {
   "cell_type": "code",
   "execution_count": 24,
   "metadata": {},
   "outputs": [],
   "source": [
    "# Algorithm 4\n",
    "def random_node(restricted_nodes:set) -> dict:\n",
    "    feature_map_choices = (32, 64, 128, 256, 512)\n",
    "    all_types = set(('BINARY', 'CONV', 'POOL', 'INPUT', 'REFERENCE'))\n",
    "    valid_types = all_types.difference(restricted_nodes)\n",
    "    random_node_type = np.random.choice(tuple(valid_types), size=1).item()\n",
    "    new_node = get_new_node()\n",
    "    \n",
    "    if random_node_type == 'BINARY':\n",
    "        q = np.random.uniform()\n",
    "        if q < 0.5:\n",
    "            new_node['TYPE'] = 'SUM'\n",
    "        else:\n",
    "            new_node['TYPE'] = 'CONCAT'  \n",
    "        \n",
    "        new_node['ARITY'] = 2\n",
    "                \n",
    "    elif random_node_type == 'CONV':\n",
    "        new_node['TYPE'] = 'CONV'\n",
    "        new_node['FEATURE_MAPS'] = np.random.choice(feature_map_choices)\n",
    "        new_node['ARITY'] = 1\n",
    "        \n",
    "    elif random_node_type == 'POOL':\n",
    "        q = np.random.uniform()\n",
    "        if q < 0.5:\n",
    "            new_node['TYPE'] = 'MAX'\n",
    "        else:\n",
    "            new_node['TYPE'] = 'AVERAGE'\n",
    "            \n",
    "        new_node['ARITY'] = 1\n",
    "            \n",
    "    elif random_node_type == 'INPUT':\n",
    "        new_node['TYPE'] = 'INPUT'\n",
    "        new_node['ARITY'] = 0\n",
    "        \n",
    "    else:\n",
    "        new_node = None\n",
    "    return new_node"
   ]
  },
  {
   "cell_type": "code",
   "execution_count": 29,
   "metadata": {},
   "outputs": [],
   "source": [
    "def get_random_node(graph):\n",
    "    num_nodes = graph.number_of_nodes()\n",
    "    if num_nodes == 1:\n",
    "        return 1\n",
    "    else:\n",
    "        return np.random.choice(range(1, num_nodes))\n",
    "    "
   ]
  },
  {
   "cell_type": "code",
   "execution_count": 30,
   "metadata": {},
   "outputs": [],
   "source": [
    "# Algorithm 3\n",
    "def add_missing_edges(S, graph, attribute_map, max_iter=100):\n",
    "    for node in S:\n",
    "        k = 0\n",
    "        t = None\n",
    "        valid = False\n",
    "\n",
    "        while k < max_iter:\n",
    "            t = get_random_node(graph)\n",
    "            b_1 = nx.has_path(graph, t, node)\n",
    "            b_2 = t in nx.neighbors(graph, node)\n",
    "            if attribute_map[t]['TYPE'] != 'INPUT' and not b_1 and not b_2:\n",
    "                valid = True\n",
    "                break\n",
    "            k += 1\n",
    "\n",
    "        if valid:\n",
    "            graph.add_edge(node, t)\n",
    "        else:\n",
    "            new_node = graph.number_of_nodes() + 1\n",
    "            graph.add_node(new_node)\n",
    "            graph.add_edge(node, new_node)\n",
    "            attribute_map[new_node]['TYPE'] = 'INPUT'\n",
    "\n",
    "    return graph, attribute_map\n",
    "            "
   ]
  },
  {
   "cell_type": "code",
   "execution_count": 31,
   "metadata": {},
   "outputs": [],
   "source": [
    "# Algorithm 1\n",
    "def initialise_archs(max_depth=100):\n",
    "    init_q = Queue()\n",
    "    depth = np.random.randint(0, max_depth)\n",
    "    level = 0\n",
    "    nonleaf = False\n",
    "\n",
    "    graph = DiGraph()\n",
    "    graph.add_node(\n",
    "        0,\n",
    "    )\n",
    "\n",
    "    init_q.put((0, 0))  # (node number, level). Root node = 0\n",
    "    node_counter = 1\n",
    "\n",
    "    attribute_map = defaultdict(dict)\n",
    "    attribute_map[0] = dict(\n",
    "        TYPE='OUTPUT',\n",
    "        FEATURE_MAPS=None,\n",
    "        ARITY=1\n",
    "    )\n",
    "\n",
    "    S = set()\n",
    "    while not init_q.empty():\n",
    "        node, l = init_q.get()\n",
    "        arity = attribute_map[node]['ARITY']\n",
    "\n",
    "        if l != level:\n",
    "            nonleaf = False\n",
    "            level = l\n",
    "        i = 0\n",
    "        while i < arity:\n",
    "            if l + 1 == depth:\n",
    "                attribute_map[node_counter] = dict(\n",
    "                    TYPE='INPUT',\n",
    "                    ARITY=0\n",
    "                )\n",
    "                graph.add_node(\n",
    "                    node_counter,\n",
    "                )\n",
    "                graph.add_edge(node, node_counter)\n",
    "                node_counter += 1\n",
    "            else:\n",
    "                restricted_node_types = disallowed_nodes(node, l, depth, nonleaf, attribute_map, graph)\n",
    "                new_node = random_node(restricted_node_types)\n",
    "                if new_node is None:\n",
    "                    S.add(node)\n",
    "                else:\n",
    "                    attribute_map[node_counter] = new_node\n",
    "                    graph.add_node(node_counter)\n",
    "                    graph.add_edge(node, node_counter)\n",
    "\n",
    "                    if new_node['TYPE'] != 'INPUT':\n",
    "                        init_q.put((node_counter, l + 1))\n",
    "                        nonleaf = True\n",
    "\n",
    "            i += 1\n",
    "\n",
    "    graph, attribute_map = add_missing_edges(S, graph, attribute_map, max_iter=100)\n",
    "    return graph, attribute_map"
   ]
  },
  {
   "cell_type": "code",
   "execution_count": 36,
   "metadata": {},
   "outputs": [
    {
     "data": {
      "text/plain": [
       "(<networkx.classes.digraph.DiGraph at 0x2a353565070>,\n",
       " defaultdict(dict,\n",
       "             {0: {'TYPE': 'OUTPUT', 'FEATURE_MAPS': None, 'ARITY': 1},\n",
       "              1: defaultdict(None, {'TYPE': 'AVERAGE', 'ARITY': 1}),\n",
       "              3: {'TYPE': 'INPUT'}}))"
      ]
     },
     "execution_count": 36,
     "metadata": {},
     "output_type": "execute_result"
    }
   ],
   "source": [
    "initialise_archs(max_depth=10)"
   ]
  },
  {
   "cell_type": "code",
   "execution_count": 47,
   "metadata": {},
   "outputs": [],
   "source": [
    "test_graph = DiGraph()"
   ]
  },
  {
   "cell_type": "code",
   "execution_count": 92,
   "metadata": {},
   "outputs": [],
   "source": [
    "# test_graph.add_nodes_from([node, 2, 3, 4, 5])\n",
    "att = dict(\n",
    "    TYPE='INPUT',\n",
    "    FEATURE_MAPS=None,\n",
    "    ARITY=0\n",
    ")\n",
    "test_graph.add_node(\n",
    "    1,\n",
    "    object=None,\n",
    "    **att\n",
    ")"
   ]
  },
  {
   "cell_type": "code",
   "execution_count": 93,
   "metadata": {},
   "outputs": [
    {
     "data": {
      "image/png": "[encoded data removed]",
      "text/plain": [
       "<Figure size 432x288 with 1 Axes>"
      ]
     },
     "metadata": {},
     "output_type": "display_data"
    }
   ],
   "source": [
    "nx.draw_shell(test_graph, with_labels=True)"
   ]
  },
  {
   "cell_type": "code",
   "execution_count": 117,
   "metadata": {},
   "outputs": [
    {
     "data": {
      "text/plain": [
       "4"
      ]
     },
     "execution_count": 117,
     "metadata": {},
     "output_type": "execute_result"
    }
   ],
   "source": [
    "np.random.choice(range(1, test_graph.number_of_nodes()))"
   ]
  },
  {
   "cell_type": "code",
   "execution_count": 114,
   "metadata": {},
   "outputs": [
    {
     "data": {
      "text/plain": [
       "3"
      ]
     },
     "execution_count": 114,
     "metadata": {},
     "output_type": "execute_result"
    }
   ],
   "source": [
    "np.random.choice(test_graph.nodes)"
   ]
  },
  {
   "cell_type": "code",
   "execution_count": null,
   "outputs": [],
   "source": [
    "[k for k,v in nx.get_node_attributes(test_graph, 'TYPE').items() if v=='INPUT']"
   ],
   "metadata": {
    "collapsed": false,
    "pycharm": {
     "name": "#%%\n"
    }
   }
  },
  {
   "cell_type": "code",
   "execution_count": null,
   "outputs": [],
   "source": [
    "[x for x in test_graph.neighbors(1)]"
   ],
   "metadata": {
    "collapsed": false,
    "pycharm": {
     "name": "#%%\n"
    }
   }
  },
  {
   "cell_type": "code",
   "execution_count": null,
   "outputs": [],
   "source": [
    "dir(test_graph)"
   ],
   "metadata": {
    "collapsed": false,
    "pycharm": {
     "name": "#%%\n"
    }
   }
  },
  {
   "cell_type": "code",
   "execution_count": null,
   "outputs": [],
   "source": [
    "[x for x in nx.neighbors(test_graph, 4)]"
   ],
   "metadata": {
    "collapsed": false,
    "pycharm": {
     "name": "#%%\n"
    }
   }
  },
  {
   "cell_type": "code",
   "execution_count": null,
   "outputs": [],
   "source": [
    "5 in nx.all_neighbors(test_graph, 1)"
   ],
   "metadata": {
    "collapsed": false,
    "pycharm": {
     "name": "#%%\n"
    }
   }
  },
  {
   "cell_type": "code",
   "execution_count": 102,
   "metadata": {},
   "outputs": [
    {
     "data": {
      "text/plain": [
       "[1]"
      ]
     },
     "execution_count": 102,
     "metadata": {},
     "output_type": "execute_result"
    }
   ],
   "source": []
  },
  {
   "cell_type": "code",
   "execution_count": 107,
   "metadata": {
    "collapsed": true
   },
   "outputs": [
    {
     "data": {
      "text/plain": [
       "[4, 2]"
      ]
     },
     "execution_count": 107,
     "metadata": {},
     "output_type": "execute_result"
    }
   ],
   "source": [
    "[x for x in test_graph.neighbors(1)]"
   ]
  },
  {
   "cell_type": "code",
   "execution_count": 119,
   "metadata": {
    "scrolled": true
   },
   "outputs": [
    {
     "data": {
      "text/plain": [
       "['__class__',\n",
       " '__contains__',\n",
       " '__delattr__',\n",
       " '__dict__',\n",
       " '__dir__',\n",
       " '__doc__',\n",
       " '__eq__',\n",
       " '__format__',\n",
       " '__ge__',\n",
       " '__getattribute__',\n",
       " '__getitem__',\n",
       " '__gt__',\n",
       " '__hash__',\n",
       " '__init__',\n",
       " '__init_subclass__',\n",
       " '__iter__',\n",
       " '__le__',\n",
       " '__len__',\n",
       " '__lt__',\n",
       " '__module__',\n",
       " '__ne__',\n",
       " '__new__',\n",
       " '__reduce__',\n",
       " '__reduce_ex__',\n",
       " '__repr__',\n",
       " '__setattr__',\n",
       " '__sizeof__',\n",
       " '__str__',\n",
       " '__subclasshook__',\n",
       " '__weakref__',\n",
       " '_adj',\n",
       " '_node',\n",
       " '_pred',\n",
       " '_succ',\n",
       " 'add_edge',\n",
       " 'add_edges_from',\n",
       " 'add_node',\n",
       " 'add_nodes_from',\n",
       " 'add_weighted_edges_from',\n",
       " 'adj',\n",
       " 'adjacency',\n",
       " 'adjlist_inner_dict_factory',\n",
       " 'adjlist_outer_dict_factory',\n",
       " 'clear',\n",
       " 'copy',\n",
       " 'degree',\n",
       " 'edge_attr_dict_factory',\n",
       " 'edge_subgraph',\n",
       " 'edges',\n",
       " 'get_edge_data',\n",
       " 'graph',\n",
       " 'graph_attr_dict_factory',\n",
       " 'has_edge',\n",
       " 'has_node',\n",
       " 'has_predecessor',\n",
       " 'has_successor',\n",
       " 'in_degree',\n",
       " 'in_edges',\n",
       " 'is_directed',\n",
       " 'is_multigraph',\n",
       " 'name',\n",
       " 'nbunch_iter',\n",
       " 'neighbors',\n",
       " 'node_attr_dict_factory',\n",
       " 'node_dict_factory',\n",
       " 'nodes',\n",
       " 'number_of_edges',\n",
       " 'number_of_nodes',\n",
       " 'order',\n",
       " 'out_degree',\n",
       " 'out_edges',\n",
       " 'pred',\n",
       " 'predecessors',\n",
       " 'remove_edge',\n",
       " 'remove_edges_from',\n",
       " 'remove_node',\n",
       " 'remove_nodes_from',\n",
       " 'reverse',\n",
       " 'size',\n",
       " 'subgraph',\n",
       " 'succ',\n",
       " 'successors',\n",
       " 'to_directed',\n",
       " 'to_directed_class',\n",
       " 'to_undirected',\n",
       " 'to_undirected_class',\n",
       " 'update']"
      ]
     },
     "execution_count": 119,
     "metadata": {},
     "output_type": "execute_result"
    }
   ],
   "source": [
    "dir(test_graph)"
   ]
  },
  {
   "cell_type": "code",
   "execution_count": 126,
   "metadata": {},
   "outputs": [
    {
     "data": {
      "text/plain": [
       "[5]"
      ]
     },
     "execution_count": 126,
     "metadata": {},
     "output_type": "execute_result"
    }
   ],
   "source": [
    "[x for x in nx.neighbors(test_graph, 4)]"
   ]
  },
  {
   "cell_type": "code",
   "execution_count": 124,
   "metadata": {},
   "outputs": [
    {
     "data": {
      "text/plain": [
       "False"
      ]
     },
     "execution_count": 124,
     "metadata": {},
     "output_type": "execute_result"
    }
   ],
   "source": [
    "5 in nx.all_neighbors(test_graph, 1)"
   ]
  },
  {
   "cell_type": "code",
   "execution_count": null,
   "metadata": {},
   "outputs": [],
   "source": []
  }
 ],
 "metadata": {
  "kernelspec": {
   "display_name": "Python [conda env:torch-evo-nn]",
   "language": "python",
   "name": "conda-env-torch-evo-nn-py"
  },
  "language_info": {
   "codemirror_mode": {
    "name": "ipython",
    "version": 3
   },
   "file_extension": ".py",
   "mimetype": "text/x-python",
   "name": "python",
   "nbconvert_exporter": "python",
   "pygments_lexer": "ipython3",
   "version": "3.8.5"
  }
 },
 "nbformat": 4,
 "nbformat_minor": 4
}